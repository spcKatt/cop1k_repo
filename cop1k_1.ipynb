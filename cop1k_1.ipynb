{
 "cells": [
  {
   "cell_type": "markdown",
   "metadata": {},
   "source": [
    "<img src=\"pyprog.png\">"
   ]
  },
  {
   "cell_type": "markdown",
   "metadata": {},
   "source": [
    "## COP 1000 - INTRODUCTION TO COMPUTER PROGRAMMING"
   ]
  },
  {
   "cell_type": "markdown",
   "metadata": {},
   "source": [
    "### MODULE 1 - DATA & VARIABLES, THE print() FUNCTION"
   ]
  },
  {
   "cell_type": "markdown",
   "metadata": {},
   "source": [
    "**DATA & VARIABLES**\n",
    "* Data are the names and numbers that a program requires to work. \n",
    "* Every item of data must have a **variable name** and **value**.\n",
    "* Values are assigned to variables with an **equals sign**.\n",
    "\n",
    "name = 'Guido'\n",
    "* Above statement assigns the **value Guido** to the **variable name**.\n",
    "* Guido is stored in computer memory as the variable name.\n",
    "* The term variable is used because the *value of a variable can change*.\n",
    "* Next statement assigns new value Maria to the name variable.\n",
    "\n",
    "name = 'Maria'"
   ]
  },
  {
   "cell_type": "code",
   "execution_count": 26,
   "metadata": {},
   "outputs": [],
   "source": [
    "# Run this cell by clicking Run on the menu bar. It seems like nothing happens but Guido is\n",
    "# stored in memory identified by name. Lines that start with # like this one are ignored by Python.\n",
    "# Called comments, they allow programmers to add notes that explain or document their programs. \n",
    "\n",
    "name = 'Guido'   # comments can be added to the end of lines, too."
   ]
  },
  {
   "cell_type": "markdown",
   "metadata": {},
   "source": [
    "**PRINTING DATA**\n",
    "* A variable can be used *after* it has been assigned a value.\n",
    "* The value of a variable can be displayed with the **print() function**.\n",
    "* Run the next cell to print the value assigned to variable name above. "
   ]
  },
  {
   "cell_type": "code",
   "execution_count": 27,
   "metadata": {},
   "outputs": [
    {
     "name": "stdout",
     "output_type": "stream",
     "text": [
      "Guido\n"
     ]
    }
   ],
   "source": [
    "# Run this cell\n",
    "\n",
    "print(name)"
   ]
  },
  {
   "cell_type": "markdown",
   "metadata": {},
   "source": [
    "Now you try it.\n",
    "* In the cell below, change the value in name to **your name**.\n",
    "* Make sure you type your name *enclosed by two apostrophes*.\n",
    "* Try another print() function to print your name.\n",
    "* Click **Run** on the menu bar to execute this cell.\n",
    "* If it causes an error, try again until it works for you."
   ]
  },
  {
   "cell_type": "code",
   "execution_count": 28,
   "metadata": {},
   "outputs": [
    {
     "name": "stdout",
     "output_type": "stream",
     "text": [
      "\n"
     ]
    }
   ],
   "source": [
    "name = '????'\n",
    "print()"
   ]
  },
  {
   "cell_type": "markdown",
   "metadata": {},
   "source": [
    "**NAMING VARIABLES**\n",
    "* Always use **descriptive** variable names that *hint at* their values.\n",
    "* There are rules for naming variables.\n",
    "* See the variable **naming rules** on the link below:\n",
    "    \n",
    "https://thehelloworldprogram.com/python/python-variable-assignment-statements-rules-conventions-naming/"
   ]
  },
  {
   "cell_type": "markdown",
   "metadata": {},
   "source": [
    "**COMMON DATA TYPES**\n",
    "* Python has **two numeric** data types and **one non-numeric** type.\n",
    "* The two numeric data types are **int** and **float**.\n",
    "* Type int is for integers, numbers without decimals.\n",
    "* Type float is for numbers with decimals.\n",
    "* Non-numeric types are called **strings** in Python and other coding languages."
   ]
  },
  {
   "cell_type": "code",
   "execution_count": 41,
   "metadata": {},
   "outputs": [],
   "source": [
    "# Examples of variable assignments\n",
    "# Note that string VALUES are enclosed by single or double quotes.\n",
    "\n",
    "student = 'Denny'                # a string variable assignment, note quotes\n",
    "age = 21                         # an int variable assignment, no quotes\n",
    "gpa = 3.6                        # a float variable assignment, no quotes"
   ]
  },
  {
   "cell_type": "code",
   "execution_count": 30,
   "metadata": {},
   "outputs": [
    {
     "name": "stdout",
     "output_type": "stream",
     "text": [
      "21\n",
      "3.6\n",
      "Denny\n"
     ]
    }
   ],
   "source": [
    "# After variables have been assigned, they can be printed.\n",
    "# Run this cell to print the values in the variables assigned above.\n",
    "\n",
    "print(age)\n",
    "print(gpa)\n",
    "print(student)"
   ]
  },
  {
   "cell_type": "code",
   "execution_count": 31,
   "metadata": {},
   "outputs": [
    {
     "name": "stdout",
     "output_type": "stream",
     "text": [
      "student\n"
     ]
    }
   ],
   "source": [
    "# Don't print a variable name enclosed by quotes.\n",
    "# That prints the variable name, not the value.\n",
    "\n",
    "print('student')"
   ]
  },
  {
   "cell_type": "code",
   "execution_count": 32,
   "metadata": {},
   "outputs": [
    {
     "name": "stdout",
     "output_type": "stream",
     "text": [
      "Florida USA\n"
     ]
    }
   ],
   "source": [
    "# Example with strings enclosed by single (apostrophes) or double quotes.\n",
    "\n",
    "country = \"USA\"\n",
    "state = 'Florida'\n",
    "print(state,country)  # two variables inside the ()"
   ]
  },
  {
   "cell_type": "markdown",
   "metadata": {},
   "source": [
    "**PRINT WITH MULTIPLE ITEMS**\n",
    "* As the last output shows, multiple items can be specified inside print().\n",
    "* separate the items with **commas**.\n",
    "* A comma prints **a space** between the items when the code runs."
   ]
  },
  {
   "cell_type": "code",
   "execution_count": 33,
   "metadata": {},
   "outputs": [
    {
     "name": "stdout",
     "output_type": "stream",
     "text": [
      "Vicki is 19\n",
      "My friend Vicki is 19 years of age\n"
     ]
    }
   ],
   "source": [
    "pal = 'Vicki'\n",
    "age = 19\n",
    "print(pal,'is',age)     # print(variable,string,int)\n",
    "\n",
    "# next print contains 5 items separated by commas\n",
    "print('My friend',pal,'is',age,'years of age')"
   ]
  },
  {
   "cell_type": "code",
   "execution_count": 34,
   "metadata": {},
   "outputs": [
    {
     "name": "stdout",
     "output_type": "stream",
     "text": [
      "Denny is 19 years of age\n",
      "Denny has a GPA of 3.6\n"
     ]
    }
   ],
   "source": [
    "# Another example\n",
    "\n",
    "print(student,'is',age,'years of age')\n",
    "print(student,'has a GPA of',gpa)"
   ]
  },
  {
   "cell_type": "markdown",
   "metadata": {},
   "source": [
    "**VARIABLE ASSIGNMENT FROM KEYBOARD INPUT**\n",
    "* The **input()** function assigns keyboard input to a variable's value.\n",
    "* This makes your programs **interactive** and *much* more interesting.\n",
    "* A **prompt string** inside the () prompts the user for what to enter.\n",
    "* Here is an example for input of a user's name...\n",
    "\n",
    "name = input('What is your name? ')\n",
    "* Pressing Enter assigns the input to the variable **name** on the left."
   ]
  },
  {
   "cell_type": "code",
   "execution_count": 35,
   "metadata": {},
   "outputs": [
    {
     "name": "stdout",
     "output_type": "stream",
     "text": [
      "Enter your name Dick\n",
      "Hello Dick\n"
     ]
    }
   ],
   "source": [
    "# Run this cell to see how Python's input() function works.\n",
    "\n",
    "name = input('Enter your name ')\n",
    "print('Hello',name)"
   ]
  },
  {
   "cell_type": "code",
   "execution_count": 36,
   "metadata": {},
   "outputs": [
    {
     "name": "stdout",
     "output_type": "stream",
     "text": [
      "Now, enter your age 22\n",
      "Dick is 22\n"
     ]
    }
   ],
   "source": [
    "# Run this cell, too.\n",
    "\n",
    "age = input('Now, enter your age ')\n",
    "print(name,'is',age)"
   ]
  },
  {
   "cell_type": "markdown",
   "metadata": {},
   "source": [
    "**Entering numbers \"Gotcha\"**\n",
    "* There is a bit more to learn about entering numbers from the keyboard.\n",
    "* The input() function **assigns a string** to the variable you use with it.\n",
    "* You can't do math with a string.\n",
    "* You have to convert the string to a numeric data type to use it for math.\n",
    "* This can be done in Python with either the **int()** or **float()** function. "
   ]
  },
  {
   "cell_type": "code",
   "execution_count": 37,
   "metadata": {},
   "outputs": [
    {
     "name": "stdout",
     "output_type": "stream",
     "text": [
      "How many states are in the USA? 23\n",
      "Now enter the smallest single digit integer that is even 3\n",
      "233\n"
     ]
    }
   ],
   "source": [
    "# Run this cell to see the \"gotcha\"\n",
    "\n",
    "states = input('How many states are in the USA? ')\n",
    "num = input('Now enter the smallest single digit integer that is even ')\n",
    "\n",
    "# next we add those integers and print the result\n",
    "print(states + num)"
   ]
  },
  {
   "cell_type": "markdown",
   "metadata": {},
   "source": [
    "**Gotcha!**\n",
    "* The arithmetic is wrong!. The output should be **52**, not 502. Here is what happened...\n",
    "* The value assigned to states was '50' not 50. It was a **string**.\n",
    "* Similarly, the value assigned to num was '2' not 2...another **string**.\n",
    "* The strings were joined, or **concatenated**, to make the longer **string 502**."
   ]
  },
  {
   "cell_type": "code",
   "execution_count": 38,
   "metadata": {},
   "outputs": [
    {
     "name": "stdout",
     "output_type": "stream",
     "text": [
      "18\n"
     ]
    }
   ],
   "source": [
    "# Doing math, starting with strings (not from the keyboard)\n",
    "# We can do it if we convert the strings to ints.\n",
    "\n",
    "num1 = '10'\n",
    "num2 = '8'\n",
    "# convert the strings to ints\n",
    "num3 = int(num1)\n",
    "num4 = int(num2)\n",
    "# print the total\n",
    "print(num3 + num4)"
   ]
  },
  {
   "cell_type": "code",
   "execution_count": 39,
   "metadata": {},
   "outputs": [
    {
     "name": "stdout",
     "output_type": "stream",
     "text": [
      "Enter an integer 12\n",
      "Enter another integer 23\n",
      "35\n"
     ]
    }
   ],
   "source": [
    "# Now doing math with keyboard input\n",
    "\n",
    "num1 = input('Enter an integer ')   # num1 is a string at this point\n",
    "num1 = int(num1)                    # num1 is now an int\n",
    "\n",
    "# embedding input() inside the int() function gets it done in ONE line\n",
    "num2 = int(input('Enter another integer '))\n",
    "\n",
    "# printing the total\n",
    "print(num1 + num2)"
   ]
  },
  {
   "cell_type": "code",
   "execution_count": 40,
   "metadata": {},
   "outputs": [
    {
     "name": "stdout",
     "output_type": "stream",
     "text": [
      "Enter price of first item 2.99\n",
      "Enter price of second item 3.39\n",
      "The total is 6.380000000000001\n"
     ]
    }
   ],
   "source": [
    "# The float() function can convert a string to a float.\n",
    "# Using embedding (most common method) for both inputs.\n",
    "\n",
    "price1 = float(input('Enter price of first item '))\n",
    "price2 = float(input('Enter price of second item '))\n",
    "total = price1 + price2\n",
    "print('The total is',total)"
   ]
  }
 ],
 "metadata": {
  "kernelspec": {
   "display_name": "Python 3",
   "language": "python",
   "name": "python3"
  },
  "language_info": {
   "codemirror_mode": {
    "name": "ipython",
    "version": 3
   },
   "file_extension": ".py",
   "mimetype": "text/x-python",
   "name": "python",
   "nbconvert_exporter": "python",
   "pygments_lexer": "ipython3",
   "version": "3.7.4"
  }
 },
 "nbformat": 4,
 "nbformat_minor": 2
}
